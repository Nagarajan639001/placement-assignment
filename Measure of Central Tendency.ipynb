{
 "cells": [
  {
   "cell_type": "code",
   "execution_count": null,
   "id": "07e5ccb9-26f7-45e0-b7ed-11e298939928",
   "metadata": {},
   "outputs": [],
   "source": [
    "#Import Library\n",
    "import pandas as pd"
   ]
  },
  {
   "cell_type": "code",
   "execution_count": null,
   "id": "ccb76071-310f-4d5d-88b2-b4164451ca10",
   "metadata": {},
   "outputs": [],
   "source": [
    "#Open the Data set\n",
    "dataset=pd.read_csv(\"placement.csv\")"
   ]
  },
  {
   "cell_type": "code",
   "execution_count": null,
   "id": "0046fbd1-03d6-4b55-98cf-1f6f4bc0a0f0",
   "metadata": {},
   "outputs": [],
   "source": [
    "dataset"
   ]
  },
  {
   "cell_type": "code",
   "execution_count": null,
   "id": "9d631711-c448-4114-9373-558e3605c375",
   "metadata": {},
   "outputs": [],
   "source": [
    "dataset.info()"
   ]
  },
  {
   "cell_type": "code",
   "execution_count": null,
   "id": "3acd1f74-6557-46ec-80e7-ba7d7adb0ea6",
   "metadata": {},
   "outputs": [],
   "source": [
    "dataset.columns"
   ]
  },
  {
   "cell_type": "code",
   "execution_count": null,
   "id": "5962c750-d385-4393-b068-e717e90fe7d0",
   "metadata": {},
   "outputs": [],
   "source": [
    "dir(dataset)"
   ]
  },
  {
   "cell_type": "code",
   "execution_count": null,
   "id": "eedc1da6-78ee-47d3-9bde-2dcd1e995737",
   "metadata": {},
   "outputs": [],
   "source": [
    "dataset.dtypes"
   ]
  },
  {
   "cell_type": "code",
   "execution_count": null,
   "id": "17cc99a9-3761-4522-9e15-d153c847b95b",
   "metadata": {},
   "outputs": [],
   "source": [
    "dataset[\"gender\"].dtypes"
   ]
  },
  {
   "cell_type": "code",
   "execution_count": null,
   "id": "cd296a44-ba24-4add-ae34-6c67525e0a3a",
   "metadata": {},
   "outputs": [],
   "source": [
    "dataset[\"ssc_p\"].dtypes"
   ]
  },
  {
   "cell_type": "code",
   "execution_count": null,
   "id": "8a80209c-5b0e-4916-b393-5ac6cbced852",
   "metadata": {},
   "outputs": [],
   "source": [
    "for columnName in dataset.columns:\n",
    "    print(columnName)"
   ]
  },
  {
   "cell_type": "code",
   "execution_count": null,
   "id": "fa44ce89-8f48-4148-b099-9359021b01aa",
   "metadata": {},
   "outputs": [],
   "source": [
    "if (dataset[\"gender\"].dtypes)=='O':\n",
    "    print(\"qual\")\n",
    "else:\n",
    "    print(\"quan\")"
   ]
  },
  {
   "cell_type": "code",
   "execution_count": null,
   "id": "7b32c6cf-7c3d-4f5e-8d7f-a8db2214abdb",
   "metadata": {},
   "outputs": [],
   "source": [
    "if (dataset[\"salary\"].dtypes)=='O':\n",
    "    print(\"qual\")\n",
    "else:\n",
    "    print(\"quan\")"
   ]
  },
  {
   "cell_type": "code",
   "execution_count": null,
   "id": "572a9e57-2b80-4d9c-9c0e-748bbad16d0e",
   "metadata": {},
   "outputs": [],
   "source": [
    "quan=[]\n",
    "qual=[]\n",
    "for columnName in dataset.columns:\n",
    "    #print(columnName)\n",
    "    if (dataset[columnName].dtypes=='O'):\n",
    "        #print(\"qual\")\n",
    "        qual.append(columnName)\n",
    "    else:\n",
    "        #print(\"quan\")\n",
    "        quan.append(columnName)\n",
    "\n",
    "    "
   ]
  },
  {
   "cell_type": "code",
   "execution_count": null,
   "id": "440b05c6-a328-4663-a8a1-67001b72eb1c",
   "metadata": {},
   "outputs": [],
   "source": []
  },
  {
   "cell_type": "code",
   "execution_count": null,
   "id": "a1661552-05c5-4abc-9cfd-7ec47bc29872",
   "metadata": {},
   "outputs": [],
   "source": [
    "def quanqual(dataset):\n",
    "    quan=[]\n",
    "    qual=[]\n",
    "    for columnName in dataset.columns:\n",
    "        #print(columnName)\n",
    "        if (dataset[columnName].dtypes)=='O':\n",
    "            #print(\"qual\")\n",
    "            qual.append(columnName)\n",
    "        else:\n",
    "            #print(\"quan\")\n",
    "            quan.append(columnName)  \n",
    "    return quan,qual"
   ]
  },
  {
   "cell_type": "code",
   "execution_count": null,
   "id": "2449bed3-a615-4e95-9bfb-98c57827f46d",
   "metadata": {},
   "outputs": [],
   "source": [
    "#Function recall"
   ]
  },
  {
   "cell_type": "code",
   "execution_count": null,
   "id": "0b34c2b2-f974-4574-96b4-fe714ccc9187",
   "metadata": {},
   "outputs": [],
   "source": [
    "quanqual(dataset)"
   ]
  },
  {
   "cell_type": "code",
   "execution_count": null,
   "id": "c04a3721-0143-44e1-ad34-0faccf0b87aa",
   "metadata": {},
   "outputs": [],
   "source": [
    "quan"
   ]
  },
  {
   "cell_type": "markdown",
   "id": "2e593dc8-636a-4ae3-8ed0-aa4d73178229",
   "metadata": {},
   "source": [
    "qual"
   ]
  },
  {
   "cell_type": "markdown",
   "id": "b35fe5f3-dcc5-435a-90ef-682dc60b0ea2",
   "metadata": {},
   "source": [
    "# Central Tendency"
   ]
  },
  {
   "cell_type": "code",
   "execution_count": null,
   "id": "c19a6975-e83f-46d6-a4bb-232056854745",
   "metadata": {},
   "outputs": [],
   "source": [
    "dataset"
   ]
  },
  {
   "cell_type": "code",
   "execution_count": null,
   "id": "86d44b60-994e-4d30-83dc-8300b1ee8c9d",
   "metadata": {},
   "outputs": [],
   "source": [
    "dataset[\"salary\"].dtypes"
   ]
  },
  {
   "cell_type": "code",
   "execution_count": null,
   "id": "777cf1d2-ce22-4a05-85c2-0da7a5bb8f81",
   "metadata": {},
   "outputs": [],
   "source": [
    "dataset[\"ssc_p\"].dtypes"
   ]
  },
  {
   "cell_type": "code",
   "execution_count": null,
   "id": "7f625caa-ce70-4c10-acf2-c035c55767ee",
   "metadata": {},
   "outputs": [],
   "source": [
    "dataset[\"ssc_p\"].mean()"
   ]
  },
  {
   "cell_type": "code",
   "execution_count": null,
   "id": "05f15f8e-d7c0-4648-ac3b-ecc855863385",
   "metadata": {},
   "outputs": [],
   "source": [
    "dataset[\"ssc_p\"].median()"
   ]
  },
  {
   "cell_type": "code",
   "execution_count": null,
   "id": "60daa1b1-b143-40f6-a170-99ef1054e30d",
   "metadata": {},
   "outputs": [],
   "source": [
    "dataset[\"ssc_p\"].mode()[0]"
   ]
  },
  {
   "cell_type": "code",
   "execution_count": null,
   "id": "95010113-6e65-4490-8889-4732d4b354de",
   "metadata": {},
   "outputs": [],
   "source": [
    "dataset.describe()"
   ]
  },
  {
   "cell_type": "code",
   "execution_count": null,
   "id": "b91e25b4-6bb2-4076-b0d5-287be2bf3ffa",
   "metadata": {},
   "outputs": [],
   "source": [
    "descriptive=pd.DataFrame()"
   ]
  },
  {
   "cell_type": "code",
   "execution_count": null,
   "id": "e1e40303-cc96-42c7-b467-4626e1ce305b",
   "metadata": {},
   "outputs": [],
   "source": [
    "descriptive"
   ]
  },
  {
   "cell_type": "code",
   "execution_count": null,
   "id": "fac79218-30f4-48b5-b6ca-954b387fd5c9",
   "metadata": {},
   "outputs": [],
   "source": [
    "quan"
   ]
  },
  {
   "cell_type": "code",
   "execution_count": null,
   "id": "2a4838e9-d599-4148-9f40-e38e38a35768",
   "metadata": {},
   "outputs": [],
   "source": [
    "qual"
   ]
  },
  {
   "cell_type": "code",
   "execution_count": null,
   "id": "f7d3d46b-4240-417a-ab4a-da928e4335e1",
   "metadata": {},
   "outputs": [],
   "source": [
    "descriptive=pd.DataFrame(index=[\"Mean\",\"Median\",\"Mode\"],columns=quan)"
   ]
  },
  {
   "cell_type": "code",
   "execution_count": null,
   "id": "395e28a3-3697-4c8a-8578-9d01edc91e23",
   "metadata": {
    "scrolled": true
   },
   "outputs": [],
   "source": [
    "descriptive"
   ]
  },
  {
   "cell_type": "code",
   "execution_count": null,
   "id": "7f878f60-e2c5-475d-97c5-dcc17553f267",
   "metadata": {},
   "outputs": [],
   "source": [
    "descriptive[\"hsc_p\"][\"Median\"]=0"
   ]
  },
  {
   "cell_type": "code",
   "execution_count": null,
   "id": "dd59a688-cec9-4075-8e22-ff016d2298b3",
   "metadata": {},
   "outputs": [],
   "source": [
    "descriptive"
   ]
  },
  {
   "cell_type": "code",
   "execution_count": null,
   "id": "377b9305-6c46-417e-9f19-763b6e2e64c4",
   "metadata": {},
   "outputs": [],
   "source": [
    "descriptiv= pd.DataFrame(index=[\"Mean\",\"Median\",\"Mode\"],columns=quan)\n",
    "for columnName in quan:\n",
    "    descriptive[columnName][\"Mean\"]=dataset[columnName].mean()\n",
    "    descriptive[columnName][\"Median\"]=dataset[columnName].median()\n",
    "    descriptive[columnName][\"Mode\"]=dataset[columnName].mode()[0]\n",
    "    "
   ]
  },
  {
   "cell_type": "code",
   "execution_count": null,
   "id": "400c88e6-6539-4148-a9bc-989db4c0c9c9",
   "metadata": {
    "scrolled": true
   },
   "outputs": [],
   "source": [
    "descriptive"
   ]
  },
  {
   "cell_type": "code",
   "execution_count": 41,
   "id": "959f28a2-b585-4204-b84d-0b4f8e02708d",
   "metadata": {
    "scrolled": true
   },
   "outputs": [
    {
     "data": {
      "text/html": [
       "<div>\n",
       "<style scoped>\n",
       "    .dataframe tbody tr th:only-of-type {\n",
       "        vertical-align: middle;\n",
       "    }\n",
       "\n",
       "    .dataframe tbody tr th {\n",
       "        vertical-align: top;\n",
       "    }\n",
       "\n",
       "    .dataframe thead th {\n",
       "        text-align: right;\n",
       "    }\n",
       "</style>\n",
       "<table border=\"1\" class=\"dataframe\">\n",
       "  <thead>\n",
       "    <tr style=\"text-align: right;\">\n",
       "      <th></th>\n",
       "      <th>sl_no</th>\n",
       "      <th>ssc_p</th>\n",
       "      <th>hsc_p</th>\n",
       "      <th>degree_p</th>\n",
       "      <th>etest_p</th>\n",
       "      <th>mba_p</th>\n",
       "      <th>salary</th>\n",
       "    </tr>\n",
       "  </thead>\n",
       "  <tbody>\n",
       "    <tr>\n",
       "      <th>Mean</th>\n",
       "      <td>108.0</td>\n",
       "      <td>67.303395</td>\n",
       "      <td>66.333163</td>\n",
       "      <td>66.370186</td>\n",
       "      <td>72.100558</td>\n",
       "      <td>62.278186</td>\n",
       "      <td>288655.405405</td>\n",
       "    </tr>\n",
       "    <tr>\n",
       "      <th>Median</th>\n",
       "      <td>108.0</td>\n",
       "      <td>67.0</td>\n",
       "      <td>65.0</td>\n",
       "      <td>66.0</td>\n",
       "      <td>71.0</td>\n",
       "      <td>62.0</td>\n",
       "      <td>265000.0</td>\n",
       "    </tr>\n",
       "    <tr>\n",
       "      <th>Mode</th>\n",
       "      <td>1</td>\n",
       "      <td>62.0</td>\n",
       "      <td>63.0</td>\n",
       "      <td>65.0</td>\n",
       "      <td>60.0</td>\n",
       "      <td>56.7</td>\n",
       "      <td>300000.0</td>\n",
       "    </tr>\n",
       "  </tbody>\n",
       "</table>\n",
       "</div>"
      ],
      "text/plain": [
       "        sl_no      ssc_p      hsc_p   degree_p    etest_p      mba_p  \\\n",
       "Mean    108.0  67.303395  66.333163  66.370186  72.100558  62.278186   \n",
       "Median  108.0       67.0       65.0       66.0       71.0       62.0   \n",
       "Mode        1       62.0       63.0       65.0       60.0       56.7   \n",
       "\n",
       "               salary  \n",
       "Mean    288655.405405  \n",
       "Median       265000.0  \n",
       "Mode         300000.0  "
      ]
     },
     "execution_count": 41,
     "metadata": {},
     "output_type": "execute_result"
    }
   ],
   "source": [
    "descriptive"
   ]
  },
  {
   "cell_type": "code",
   "execution_count": null,
   "id": "3ff95ccc-8492-4017-95fb-82e3a3474013",
   "metadata": {},
   "outputs": [],
   "source": []
  }
 ],
 "metadata": {
  "kernelspec": {
   "display_name": "Python 3 (ipykernel)",
   "language": "python",
   "name": "python3"
  },
  "language_info": {
   "codemirror_mode": {
    "name": "ipython",
    "version": 3
   },
   "file_extension": ".py",
   "mimetype": "text/x-python",
   "name": "python",
   "nbconvert_exporter": "python",
   "pygments_lexer": "ipython3",
   "version": "3.12.4"
  }
 },
 "nbformat": 4,
 "nbformat_minor": 5
}
